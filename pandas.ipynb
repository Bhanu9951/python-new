{
  "nbformat": 4,
  "nbformat_minor": 0,
  "metadata": {
    "colab": {
      "name": "pandas.ipynb",
      "provenance": [],
      "collapsed_sections": [],
      "authorship_tag": "ABX9TyPOdzK4cHiaghUGbcl0vEdC",
      "include_colab_link": true
    },
    "kernelspec": {
      "name": "python3",
      "display_name": "Python 3"
    },
    "language_info": {
      "name": "python"
    }
  },
  "cells": [
    {
      "cell_type": "markdown",
      "metadata": {
        "id": "view-in-github",
        "colab_type": "text"
      },
      "source": [
        "<a href=\"https://colab.research.google.com/github/Bhanu9951/python-new/blob/module-3/pandas.ipynb\" target=\"_parent\"><img src=\"https://colab.research.google.com/assets/colab-badge.svg\" alt=\"Open In Colab\"/></a>"
      ]
    },
    {
      "cell_type": "code",
      "execution_count": null,
      "metadata": {
        "colab": {
          "base_uri": "https://localhost:8080/"
        },
        "id": "LCtO0iltqyEt",
        "outputId": "1de543fb-34fd-456b-f734-bbd0e3f8c50c"
      },
      "outputs": [
        {
          "output_type": "stream",
          "name": "stdout",
          "text": [
            "  companies location\n",
            "0  flipkart      vjy\n",
            "1  capgemni      Vsp\n",
            "2    Amazon      Blr\n",
            "3       tcs      hyd\n"
          ]
        }
      ],
      "source": [
        "##read an entire text file.\n",
        "import pandas\n",
        "bhanu = {'companies':['flipkart','capgemni','Amazon','tcs'],'location':['vjy','Vsp','Blr','hyd']}\n",
        "x = pandas.DataFrame(bhanu)\n",
        "print(x)\n"
      ]
    },
    {
      "cell_type": "code",
      "source": [
        "##read the first n lines of a file.\n",
        "import pandas as pd\n",
        "bhanu = {'companies':['flipkart','capgemni','Amazon','tcs'],'location':['vjy','Vsp','Blr','hyd']}\n",
        "x = pd.DataFrame(bhanu)\n",
        "print(x)"
      ],
      "metadata": {
        "colab": {
          "base_uri": "https://localhost:8080/"
        },
        "id": "MSv6OQWssArR",
        "outputId": "ee576de9-fa76-4ad9-afdc-6e3d5096a3c5"
      },
      "execution_count": null,
      "outputs": [
        {
          "output_type": "stream",
          "name": "stdout",
          "text": [
            "  companies location\n",
            "0  flipkart      vjy\n",
            "1  capgemni      Vsp\n",
            "2    Amazon      Blr\n",
            "3       tcs      hyd\n"
          ]
        }
      ]
    },
    {
      "cell_type": "code",
      "source": [
        "##append text to a file and display the text.\n",
        "import pandas as pd\n",
        "marks = [98,32.9,41,28]\n",
        "bhanu = pd.Series(marks)\n",
        "print(bhanu)"
      ],
      "metadata": {
        "colab": {
          "base_uri": "https://localhost:8080/"
        },
        "id": "EgPEOwcEtkyO",
        "outputId": "1f650827-b8c1-4797-d08f-f74f937c5ae3"
      },
      "execution_count": null,
      "outputs": [
        {
          "output_type": "stream",
          "name": "stdout",
          "text": [
            "0    98.0\n",
            "1    32.9\n",
            "2    41.0\n",
            "3    28.0\n",
            "dtype: float64\n"
          ]
        }
      ]
    },
    {
      "cell_type": "code",
      "source": [
        "##Read numbers from a file and write even and odd numbers to separate files.\n",
        "import pandas as pd\n",
        "marks = [98,32.9,41,28]\n",
        "bhanu = pd.Series(marks)\n",
        "print(bhanu)\n",
        "print(bhanu[1])"
      ],
      "metadata": {
        "colab": {
          "base_uri": "https://localhost:8080/"
        },
        "id": "WAWktaT0t3YT",
        "outputId": "8dc61032-029a-4097-dd6a-151e71328cd9"
      },
      "execution_count": null,
      "outputs": [
        {
          "output_type": "stream",
          "name": "stdout",
          "text": [
            "0    98.0\n",
            "1    32.9\n",
            "2    41.0\n",
            "3    28.0\n",
            "dtype: float64\n",
            "32.9\n"
          ]
        }
      ]
    },
    {
      "cell_type": "code",
      "source": [
        "##x Count characters, words and lines in a text file.\n",
        "import pandas as pd\n",
        "marks = [28, 29.5, 15]\n",
        "bhanu = pd.Series(marks, index = [\"bhanu1\", \"bhanu2\", \"bhanu3\"])\n",
        "print(bhanu)\n"
      ],
      "metadata": {
        "colab": {
          "base_uri": "https://localhost:8080/"
        },
        "id": "JcoJ8emluX79",
        "outputId": "1272a45b-5056-48ce-a958-0e6383f8b75d"
      },
      "execution_count": null,
      "outputs": [
        {
          "output_type": "stream",
          "name": "stdout",
          "text": [
            "bhanu1    28.0\n",
            "bhanu2    29.5\n",
            "bhanu3    15.0\n",
            "dtype: float64\n"
          ]
        }
      ]
    },
    {
      "cell_type": "code",
      "source": [
        "##Write a Pandas program to read specific columns from a given excel file.\n",
        "import pandas as pd\n",
        "marks = [38, 29.5, 25]\n",
        "bhanu = pd.Series(marks, index = [\"bhanu2\", \"bhanu3\", \"bhanu4\"])\n",
        "print(bhanu)\n",
        "print(mymarks[\"bhanu3\"])"
      ],
      "metadata": {
        "id": "b2PQN3yGwMmK"
      },
      "execution_count": null,
      "outputs": []
    },
    {
      "cell_type": "code",
      "source": [
        "##x To write a list to a file.\n",
        "import pandas as pd\n",
        "bhanu = {\"d1\": 12, \"d2\": 10, \"d3\": 8}\n",
        "x = pd.Series(bhanu)\n",
        "print(x)"
      ],
      "metadata": {
        "colab": {
          "base_uri": "https://localhost:8080/"
        },
        "id": "Yl6omgGBx-bM",
        "outputId": "b5f0d7b3-6998-4648-8295-629aa7b43dbb"
      },
      "execution_count": null,
      "outputs": [
        {
          "output_type": "stream",
          "name": "stdout",
          "text": [
            "d1    12\n",
            "d2    10\n",
            "d3     8\n",
            "dtype: int64\n"
          ]
        }
      ]
    },
    {
      "cell_type": "code",
      "source": [
        "##Print only limited data as per the labels:\n",
        "import pandas as pd\n",
        "bhanu = {\"d1\": 12, \"d2\": 10, \"d3\": 8}\n",
        "x = pd.Series(rakshi,index=[\"d1\",\"d2\"])\n",
        "print(x)"
      ],
      "metadata": {
        "colab": {
          "base_uri": "https://localhost:8080/"
        },
        "id": "EFXRmLDcyKps",
        "outputId": "7728a690-44c0-419b-9291-61a464fbf50f"
      },
      "execution_count": null,
      "outputs": [
        {
          "output_type": "stream",
          "name": "stdout",
          "text": [
            "d1   NaN\n",
            "d2   NaN\n",
            "dtype: float64\n"
          ]
        }
      ]
    },
    {
      "cell_type": "code",
      "source": [
        "##Given a dataframe, select rows based on a condition.\n",
        "import pandas as pd\n",
        "bhanu = {\n",
        "  \"Employees\": [\"bhanu2\", \"bhanu3\", \"bhanu4\"],\n",
        "  \"Publications\": [70, 30, 40]\n",
        "}\n",
        "x = pd.DataFrame(bhanu)\n",
        "print(x)"
      ],
      "metadata": {
        "colab": {
          "base_uri": "https://localhost:8080/"
        },
        "id": "Q9LILSK-yUBD",
        "outputId": "3441b1c4-2d78-4f40-d347-c2ee8da61d3e"
      },
      "execution_count": null,
      "outputs": [
        {
          "output_type": "stream",
          "name": "stdout",
          "text": [
            "  Employees  Publications\n",
            "0    bhanu2            70\n",
            "1    bhanu3            30\n",
            "2    bhanu4            40\n"
          ]
        }
      ]
    },
    {
      "cell_type": "code",
      "source": [
        "##Given a dataframe, select rows based on a condition.\n",
        "import pandas as pd\n",
        "empPublications = {\n",
        "  \"Employees\": [\"Raman\", \"Ranjan\", \"Ramani\"],\n",
        "  \"Publications\": [50, 40, 45]\n",
        "}\n",
        "myvar = pd.DataFrame(empPublications,index=[\"2001\",\"2002\",\"2003\"])\n",
        "print(myvar)\n",
        "print(myvar.loc[\"2001\"])"
      ],
      "metadata": {
        "colab": {
          "base_uri": "https://localhost:8080/"
        },
        "id": "5H5ZfFHby0bs",
        "outputId": "a09464fd-550e-4ca6-a5b5-86b44a013b3b"
      },
      "execution_count": null,
      "outputs": [
        {
          "output_type": "stream",
          "name": "stdout",
          "text": [
            "     Employees  Publications\n",
            "2001     Raman            50\n",
            "2002    Ranjan            40\n",
            "2003    Ramani            45\n",
            "Employees       Raman\n",
            "Publications       50\n",
            "Name: 2001, dtype: object\n"
          ]
        }
      ]
    },
    {
      "cell_type": "code",
      "source": [
        "##Given is a dataframe showing the name, occupation, salary of people. Find the average salary per occupation.\n",
        "import pandas as pd\n",
        "df = pd.read_csv('bhanu.csv')\n",
        "print(df.to_string())"
      ],
      "metadata": {
        "id": "rMHx3M6DzFFL"
      },
      "execution_count": null,
      "outputs": []
    },
    {
      "cell_type": "code",
      "source": [
        "##x Given a CSV file or excel file to read it into a dataframe and display it.\n",
        "import pandas as pd\n",
        "df = pd.read_csv('bhanu.csv')\n",
        "print(df)"
      ],
      "metadata": {
        "id": "qELSvosVzS9k"
      },
      "execution_count": null,
      "outputs": []
    },
    {
      "cell_type": "code",
      "source": [
        "##x Given a dataframe, select rows based on a condition.\n",
        "import pandas as pd\n",
        "pd.options.display.max_rows = 9999\n",
        "df = pd.read_csv(‘bhanu.csv’)\n",
        "print(df)"
      ],
      "metadata": {
        "id": "TqA7i1UzzaUl"
      },
      "execution_count": null,
      "outputs": []
    },
    {
      "cell_type": "code",
      "source": [
        ""
      ],
      "metadata": {
        "id": "fgWuCaOFzhAT"
      },
      "execution_count": null,
      "outputs": []
    }
  ]
}